{
 "cells": [
  {
   "cell_type": "code",
   "execution_count": 1,
   "metadata": {
    "collapsed": true
   },
   "outputs": [],
   "source": [
    "#install cntk and required library\n",
    "import os,sys\n",
    "import numpy as np\n",
    "import cntk as C\n",
    "from cntk import load_model, combine\n",
    "import cntk.io.transforms as xforms\n",
    "from cntk.logging import graph\n",
    "from cntk.logging.graph import get_node_outputs\n",
    "import zipfile\n",
    "import shutil\n",
    "import glob\n",
    "import sklearn as sk\n",
    "from sklearn.svm import SVC\n",
    "from sklearn.ensemble import RandomForestClassifier\n",
    "import pandas as pd\n",
    "import numpy as np\n",
    "import pickle as pk\n",
    "import xgboost as xg\n",
    "import time\n",
    "# import tensorflow as tf"
   ]
  },
  {
   "cell_type": "code",
   "execution_count": 2,
   "metadata": {
    "collapsed": true
   },
   "outputs": [],
   "source": [
    "# dataframe with features from resnet 18 one layer before last layer for train dataset\n",
    "df = pd.read_csv(\"predOutput_1000.txt\", delim_whitespace=True, header=None)\n",
    "df_cls = pd.read_csv(\"image-location-with-class.txt\", delim_whitespace=True, header=None)\n",
    "df_cls.columns = ['location','class']\n",
    "df = df.join(df_cls['class'])\n"
   ]
  },
  {
   "cell_type": "code",
   "execution_count": 3,
   "metadata": {},
   "outputs": [
    {
     "name": "stdout",
     "output_type": "stream",
     "text": [
      "             0         1         2         3         4          5         6  \\\n",
      "0    -1.066392 -0.318509 -1.664783 -0.264905 -1.684140   0.434602 -2.551604   \n",
      "1     3.013852 -0.940698  2.668768  2.740596  0.025980   3.220846 -3.906793   \n",
      "2    -1.799187 -2.897550 -2.906348 -2.983232 -4.415853  -0.146917 -6.959669   \n",
      "3     0.827173 -0.219210 -2.562124 -2.250758 -4.175933   0.834077 -1.877497   \n",
      "4    -0.022826  0.932449 -6.492920 -5.550576 -4.012052   0.208040 -4.701711   \n",
      "5    -0.549076 -0.036998 -3.732693  0.917979 -1.922013   1.015206 -4.432506   \n",
      "6    -1.305109  1.935297 -5.052127 -3.319174 -4.129058  -0.380575 -4.448411   \n",
      "7     3.441793  0.227624 -0.673989  0.550912  0.620432   1.769606 -1.498477   \n",
      "8     1.607878  1.756927 -3.194895  0.024584 -0.332034   2.895038 -1.152025   \n",
      "9    -1.935967  0.796424 -2.717592 -2.859518 -2.734782   1.435592 -2.617879   \n",
      "10    2.195558 -2.179096 -0.896631 -0.572897 -0.960225   0.586332 -3.555867   \n",
      "11    1.118002  1.846784 -3.646180 -4.369446 -4.006857  -0.724404 -5.143523   \n",
      "12    0.914729  0.410830 -2.909434 -2.092699 -1.034178   3.324203 -3.265072   \n",
      "13    3.374985 -1.765322  0.875531  1.012325  3.709192   5.285374  0.871921   \n",
      "14    1.722560  1.644512 -1.660939  0.184595 -0.298339   4.232925 -1.388838   \n",
      "15    0.653811 -1.086208 -1.545212 -1.931061 -1.654891   2.838925 -2.526303   \n",
      "16    4.369104  1.041078  5.797815  5.584785  6.248024   9.724102  2.117851   \n",
      "17   -1.048443 -0.927351 -1.153794 -3.216317 -1.330561   1.494505 -3.562994   \n",
      "18   -0.020120 -1.551785 -4.436145 -4.089662 -4.571399   0.658092 -3.999745   \n",
      "19    1.078959 -0.363765 -0.661940 -0.329316 -0.488458   2.086912 -2.270637   \n",
      "20    0.311023  0.658695 -3.423593 -2.136907 -2.578149   0.715846 -3.948570   \n",
      "21    2.373569 -0.959823 -2.373899 -0.351054  0.840203   1.797302 -1.820352   \n",
      "22    4.465922  1.730826 -0.948168  1.028188 -0.968868   3.376193 -0.789523   \n",
      "23    0.470591 -1.941557 -3.123228 -2.308677 -2.154857   0.387559 -5.173614   \n",
      "24    4.493872  1.351485 -2.418776 -0.761697 -1.269833   2.136468 -2.944431   \n",
      "25    2.259143  3.069590 -3.146549 -1.211384 -0.981011   2.215159 -2.172820   \n",
      "26    1.415587 -2.079620  1.260644  0.939476  0.646217   3.827688 -0.748967   \n",
      "27    3.040856 -0.909181 -1.915165  0.722511 -4.056352   2.657289 -3.364215   \n",
      "28    0.244686  0.072220 -0.811593  0.226924 -1.141005   4.326115  1.855113   \n",
      "29    3.485464  1.288901  2.693065  3.239652  1.485172   4.636717  1.076671   \n",
      "...        ...       ...       ...       ...       ...        ...       ...   \n",
      "9970  1.333968 -0.184049 -2.184649 -0.522981  0.872119   1.739019 -2.378558   \n",
      "9971  5.661517  3.284209 -2.253957 -1.035379 -0.385931   7.298566  4.837596   \n",
      "9972  2.229096  3.657672  1.431418  4.050503  6.114826  10.257393  4.395078   \n",
      "9973  1.577962  1.556013  1.474748  0.871603  0.112585   5.247981  1.657676   \n",
      "9974 -0.988089 -0.938163 -0.071489  0.551669  1.760086   6.595766  0.976610   \n",
      "9975  2.586274 -0.087749 -1.918005 -2.534724 -1.416563   1.738229 -4.552486   \n",
      "9976  4.871582  3.044236  1.168087  2.520921  1.825122   5.661313 -0.342694   \n",
      "9977  0.496556 -2.219551 -2.506564 -2.351698 -2.015145   2.094529 -3.522826   \n",
      "9978  4.879095  0.373597 -0.104009 -0.015980  3.030307   3.171079 -1.688177   \n",
      "9979  2.844674  1.573861 -1.838816 -0.442130  0.210467   2.414318 -0.863513   \n",
      "9980  1.701238  0.642814 -3.383322 -3.523494 -4.542918   2.501218 -3.954788   \n",
      "9981  2.890343  1.458125 -2.075707 -1.967702  0.058075   4.847372 -1.889847   \n",
      "9982  4.054341  2.060745 -3.808635 -2.685010 -3.080205   6.518021  1.362187   \n",
      "9983  5.101127  3.189231  1.514466  2.261579  1.353005   6.707174  4.460025   \n",
      "9984  1.036546 -0.291653 -3.864255 -5.092200 -3.235035  -0.307961 -6.450212   \n",
      "9985  3.705062  4.057497  3.016548  2.346686  1.447376  10.155307  2.449450   \n",
      "9986  1.643717  0.233898 -0.323419  0.203150  0.643793   2.164473 -2.167986   \n",
      "9987 -3.789582 -2.272800 -2.079560 -5.066125 -2.446494  -1.856727 -7.722291   \n",
      "9988  3.152016  3.177581 -3.669519 -2.264700 -1.249404   3.274348 -2.447374   \n",
      "9989  0.831729  0.105399  1.463454  0.466173  4.445329   5.440117  0.117530   \n",
      "9990  0.934946 -1.005527  0.527332 -1.263236 -2.774509   1.582771 -1.309104   \n",
      "9991  2.265010 -0.114210 -3.120500 -2.735070 -1.471990   0.040161 -5.300031   \n",
      "9992  7.085584  2.570515 -1.882996  0.052757  1.839813   2.353885 -0.124046   \n",
      "9993 -2.459998  0.780492 -4.395198 -3.018359 -3.989436   0.585759 -6.079500   \n",
      "9994  3.107539  2.101336  0.191950 -2.847229 -0.500380   5.033757 -1.868687   \n",
      "9995  0.869392  2.019016 -4.282484 -2.877930 -2.363701   0.186447 -3.435462   \n",
      "9996 -1.279273 -2.589203 -3.843556 -4.750920 -4.231114   0.317757 -5.858166   \n",
      "9997  0.142782  0.920025 -3.205625 -1.622617 -3.087871   0.625397 -4.623497   \n",
      "9998  2.125575  0.950115  0.853616  0.947862  0.331359   3.688016 -1.135211   \n",
      "9999 -2.767780 -0.476392 -2.125858 -5.471769 -1.905390   1.307978 -2.922906   \n",
      "\n",
      "             7         8         9  ...         991       992       993  \\\n",
      "0    -1.182754 -0.822191 -1.551723  ...   -1.177930 -2.869588 -2.199631   \n",
      "1    -2.831037 -4.636915 -4.146321  ...   -3.990960 -4.706732 -3.909791   \n",
      "2    -2.590721 -2.231645 -5.840038  ...   -6.492050 -4.978445 -4.628623   \n",
      "3    -3.509712 -4.342431 -6.030427  ...   -4.142194 -1.889603 -0.869307   \n",
      "4    -4.029094 -4.670235 -1.806808  ...   -3.060911 -0.697758 -4.684961   \n",
      "5    -4.082261 -4.575254 -1.259221  ...   -4.479139 -1.437494 -3.997633   \n",
      "6    -4.346675 -3.111230 -4.577779  ...   -3.330064 -2.523558 -2.072580   \n",
      "7    -2.265541 -2.246520  0.436993  ...   -0.672063 -2.579484 -0.454185   \n",
      "8    -1.629978  0.154129 -0.753971  ...    2.261785 -0.992579  2.144114   \n",
      "9    -2.059864 -1.821601 -2.724130  ...   -0.498909 -1.111134 -0.785388   \n",
      "10   -1.856946 -5.440391 -4.128996  ...   -2.927588 -2.983299 -2.616594   \n",
      "11   -2.858056 -3.911623 -3.205164  ...   -0.724978 -0.552541  3.406039   \n",
      "12    0.927468  0.975767 -1.668369  ...    0.997381 -1.739659  3.905346   \n",
      "13    2.419821  3.823306 -3.172351  ...   -2.005126 -2.188974  1.505796   \n",
      "14   -2.495387 -4.324897 -4.355422  ...   -3.096506 -2.818439 -1.265860   \n",
      "15    1.659247  0.725684  3.230689  ...   -1.473142 -3.267266  0.891582   \n",
      "16   -5.583375 -7.371855  0.253295  ...   -1.723787  2.733573  1.075365   \n",
      "17   -2.008352 -3.072665 -2.433495  ...   -4.435211 -4.730636 -2.124033   \n",
      "18   -2.259730 -2.973316 -2.140729  ...   -3.917223 -4.914097 -2.578700   \n",
      "19   -1.129717  0.189428 -2.828073  ...   -1.668306 -4.179017 -0.340674   \n",
      "20   -1.562617 -1.303726 -3.619578  ...   -1.465955 -1.976292 -0.186848   \n",
      "21   -1.928313 -2.524987  1.351807  ...   -1.416350 -1.245523 -0.723375   \n",
      "22   -3.739705 -5.274738 -5.774338  ...   -4.130435 -6.652107 -2.056266   \n",
      "23   -3.821553 -3.506757  0.342229  ...   -1.605254 -1.894323 -2.621834   \n",
      "24   -2.101639 -0.861513 -0.017047  ...   -2.248224 -1.651311 -1.771946   \n",
      "25   -1.208983 -0.067443 -2.195406  ...    5.065041  1.364366  3.752428   \n",
      "26   -1.906542 -3.050951  1.053132  ...   -1.933335 -2.232617 -0.406870   \n",
      "27   -2.570342 -2.612919 -0.205492  ...   -2.667472 -5.771420 -1.278433   \n",
      "28   -3.884883 -4.556323 -3.516788  ...   -3.019467 -5.744965 -3.366312   \n",
      "29   -1.478022 -2.070776 -2.847836  ...   -2.154450 -3.612877  1.451120   \n",
      "...        ...       ...       ...  ...         ...       ...       ...   \n",
      "9970 -2.832176 -3.631630 -0.095988  ...   -0.672315 -0.992476 -0.849935   \n",
      "9971  1.440278  0.265373 -0.362620  ...    2.329474 -1.403648  2.745817   \n",
      "9972 -0.364442 -1.612589 -0.093836  ...    0.046268 -2.065288  0.501218   \n",
      "9973 -0.064419 -1.311751 -2.041237  ...   -2.191035 -2.942653 -1.302711   \n",
      "9974 -1.492860 -2.307182 -3.266059  ...   -0.726538 -1.681187  0.794475   \n",
      "9975 -4.157539 -5.028264 -3.181489  ...   -3.363764 -3.102769 -1.388448   \n",
      "9976 -3.169090 -2.964259 -3.856889  ...    1.067744 -1.879952  1.856429   \n",
      "9977 -1.615780 -2.392472  3.310477  ...   -2.361092 -3.150259  0.807516   \n",
      "9978  0.364006  2.779704 -1.286597  ...   -2.551769 -2.893321  0.710628   \n",
      "9979 -1.157332  0.189140 -1.322708  ...    5.995559  3.006217  4.328792   \n",
      "9980 -3.211211 -3.248773 -2.963053  ...   -4.081441 -2.950744 -3.056048   \n",
      "9981 -3.623331 -0.232099  1.155456  ...   -1.893225 -3.324157  2.744356   \n",
      "9982 -2.573892 -0.615054 -3.736460  ...   -2.732555 -2.506282  2.879179   \n",
      "9983 -1.961113 -3.097867 -0.575800  ...   -0.039178 -2.421480  0.926318   \n",
      "9984 -4.718702 -4.551293 -3.208704  ...   -1.405239  4.364187  3.425166   \n",
      "9985 -4.010067 -5.537024 -2.847666  ...   -2.884748 -2.576163  0.702400   \n",
      "9986 -2.579007 -2.642865 -3.269239  ...   -2.575677 -5.857246  3.700373   \n",
      "9987 -2.408743 -4.477101 -0.461328  ...   -3.008357 -4.553888 -3.801887   \n",
      "9988 -0.664206 -1.336170 -2.993219  ...    7.855548  4.129016  5.190833   \n",
      "9989  1.544702  2.297750 -1.467483  ...   -0.653595 -2.960432  5.767441   \n",
      "9990 -1.896849 -1.015762 -1.404091  ...   -1.218944 -3.541698  0.633587   \n",
      "9991 -2.315640 -1.772052 -0.317436  ...   -2.194278 -3.969727 -1.898145   \n",
      "9992 -2.431067 -2.783157  0.144956  ...    1.551804 -0.287005  3.746580   \n",
      "9993 -2.696336 -2.406643 -3.933100  ...   -2.633369 -5.856577 -0.564004   \n",
      "9994 -1.698534 -3.629249 -3.693540  ...   -1.438343 -1.844618 -1.217270   \n",
      "9995 -2.910850 -2.916304 -4.200737  ...   -2.481482 -4.989599 -1.933225   \n",
      "9996 -1.877766 -3.051572 -3.006954  ...   -3.340118 -2.555020 -2.365364   \n",
      "9997 -2.972201 -2.242014 -3.130838  ...   -4.096294 -3.385447  0.922867   \n",
      "9998 -1.862134 -2.210843 -2.873962  ...    0.696306 -2.653787  1.603174   \n",
      "9999 -3.567533 -5.449502 -2.446050  ...   -1.958686 -5.686083 -2.793608   \n",
      "\n",
      "           994       995       996       997       998       999  class  \n",
      "0    -1.280018  1.055705  0.621179 -1.064858 -2.057902 -0.811097    275  \n",
      "1     1.472039  2.543999 -0.271219  0.527800  1.972094 -2.595650    570  \n",
      "2    -4.947436 -1.643973 -0.797379 -4.488186 -0.820294  2.119460    945  \n",
      "3    -2.172971  1.257450  0.737611  0.167456  0.849328 -0.136439    801  \n",
      "4    -3.687618 -2.185094 -1.260001 -2.243009  1.423904  0.451079    846  \n",
      "5    -1.814425 -4.179898 -2.245195 -3.500692  0.348047  2.736795    905  \n",
      "6    -1.875580 -3.196782 -0.051051 -1.337347  1.554719  0.829934    788  \n",
      "7    -1.511016  1.076896 -0.227445 -1.694678 -0.009517 -3.343772    367  \n",
      "8     1.343877  2.447116  2.363261 -0.103230  2.764295 -1.823125    630  \n",
      "9    -0.397620  0.296982  0.211697 -1.150269  2.450435 -2.830115    827  \n",
      "10   -1.581312  0.140991  0.110880 -2.803203 -1.351327 -1.363828    847  \n",
      "11   -0.174942  3.356468  4.176830  0.178445  1.234467 -2.326965    275  \n",
      "12    2.477415  2.782710  2.838969 -2.275603 -2.068608 -2.306397    275  \n",
      "13    1.924645  3.701641  2.540884  0.800914 -1.756028  0.446422    420  \n",
      "14   -0.316219  1.096722 -1.605866 -1.520270  5.735041  0.063049    635  \n",
      "15   -1.050861  2.891371  0.574236 -0.214485 -2.445098 -0.648099     52  \n",
      "16    0.920388  1.231823  2.637089  6.618336  1.358384  0.075402    193  \n",
      "17   -2.849161  2.677052 -2.033047 -2.751697 -0.529242  1.923931    727  \n",
      "18   -4.528057 -3.388392 -2.528654 -2.854351  0.200507 -0.171747    716  \n",
      "19   -1.220047 -0.882514  1.709057 -3.534477 -1.311965 -0.735616    359  \n",
      "20   -1.722021 -0.821480  1.010828 -0.819779 -0.261426 -0.558787    855  \n",
      "21   -1.491821  1.150713 -0.176214 -0.167421 -0.261850 -0.374165    989  \n",
      "22   -1.807048  0.263093 -1.437446 -2.673156  0.224172  0.584443    176  \n",
      "23   -3.143706 -0.967597 -0.284521 -1.004917  0.715402 -1.964185    682  \n",
      "24   -2.141140  0.531747 -0.918262 -3.110626 -0.141753 -1.025114    366  \n",
      "25    3.470483  5.263585  4.371733  1.774361  4.259753 -2.327307    630  \n",
      "26   -0.417344  1.122112  0.588096  0.617559  0.853165 -3.669118    733  \n",
      "27   -0.101021  5.388366 -0.154604  0.906039  3.461466 -1.756332     61  \n",
      "28   -1.701028  1.265246  1.713637 -0.269956 -1.123532  3.250458    884  \n",
      "29   -0.258679  0.912067 -0.249149  0.622393 -1.156219 -1.176804     52  \n",
      "...        ...       ...       ...       ...       ...       ...    ...  \n",
      "9970 -0.746402  2.506507  1.576370  0.339705  0.397381 -0.465723    699  \n",
      "9971  6.395844  6.360843  1.598708  3.612567  4.038382 -0.933501    629  \n",
      "9972  0.890263  3.574133  2.403679  1.579654  0.020041 -0.911998    658  \n",
      "9973 -0.182542  4.824039  1.741071 -0.603226 -0.185762 -0.523144    629  \n",
      "9974 -0.052834  1.747168  1.045291  1.369950 -0.951125 -0.430831    836  \n",
      "9975 -1.884650  0.171432 -0.650270 -1.734375  1.343056 -3.447805    268  \n",
      "9976  3.524478  4.309460  4.075295  2.857999  3.516907 -2.865376    654  \n",
      "9977 -3.830161 -0.270034 -0.281239  0.678497 -2.107551 -2.377719    165  \n",
      "9978 -1.938066  1.352626  0.472901 -0.653230 -0.308835 -0.422362    151  \n",
      "9979  4.479906  6.099316  3.931745  2.858475  0.765169 -2.044146    499  \n",
      "9980 -3.271247 -1.071152  0.274523 -0.907062 -0.947068 -2.161200    266  \n",
      "9981  1.683839  2.104530  5.194901  1.470538  2.260180 -1.233103     61  \n",
      "9982  0.930300  1.982185  2.004897  3.593023  1.058292 -0.460898    211  \n",
      "9983  4.082561  3.324562  1.560854  0.690083 -0.636170 -2.421592    827  \n",
      "9984  3.979788  3.345838  3.740049  5.953960  2.135367  2.765641    591  \n",
      "9985  2.006287  4.118237  2.343690  1.026339  0.455036 -0.580515    647  \n",
      "9986 -0.776458 -0.130895  0.114452 -2.075065  0.881498  0.178065    985  \n",
      "9987 -5.968561 -1.223390 -3.193769 -4.270441 -0.279485 -1.882895    962  \n",
      "9988  5.497573  8.609589  5.367061  2.919206  3.248557 -3.766733    494  \n",
      "9989 -0.725631  1.477531 -0.534930 -1.279592 -0.376765 -0.614297     83  \n",
      "9990  0.509502  2.168389  2.116911  1.643870  1.014951 -0.991235     61  \n",
      "9991 -3.895805 -1.067521 -1.060236 -2.700547 -0.481266 -1.706452    722  \n",
      "9992  1.261072  3.896645  2.688831  1.494451  2.986168 -3.880052    633  \n",
      "9993 -2.633476 -1.375734 -1.210590 -1.908367  2.054641 -0.869140    707  \n",
      "9994  4.416098  6.113522  1.082792  2.293052  3.583594 -1.418102    631  \n",
      "9995 -1.424661 -2.084189  1.919832 -2.552648 -0.806768 -0.771524    543  \n",
      "9996 -3.507404 -1.741521 -0.989829 -3.949866  0.299227 -4.805467    275  \n",
      "9997  3.760870  1.640636  1.081954 -2.460800  2.049435 -1.755630    971  \n",
      "9998  1.020146  2.509609  1.879880 -1.749347 -0.547969 -3.442389    494  \n",
      "9999 -2.443701  0.797734 -1.023400 -3.069693 -2.725091 -2.688532    677  \n",
      "\n",
      "[10000 rows x 1001 columns]\n"
     ]
    }
   ],
   "source": [
    "\n",
    "# dataframe with features from resnet 18 one layer before last layer for val dataset\n",
    "df_validate = pd.read_csv(\"predOutput_val_1000.txt\", delim_whitespace=True, header=None)\n",
    "df_validate_cls = pd.read_csv(\"image-location-val.txt\", delim_whitespace=True, header=None)\n",
    "df_validate_cls.columns = ['location','class']\n",
    "df_validate = df_validate.join(df_validate_cls['class'])\n",
    "print(df_validate)"
   ]
  },
  {
   "cell_type": "code",
   "execution_count": null,
   "metadata": {
    "collapsed": true
   },
   "outputs": [],
   "source": [
    "from sklearn.model_selection import train_test_split\n",
    "X_train = df.drop('class', axis=1).values\n",
    "y_train = df['class'].values.astype(np.integer)\n",
    "# X_train, X_test, y_train, y_test = train_test_split(X,y,train_size = 0.5,stratify=y) \n",
    "svm = SVC(kernel='rbf')\n",
    "print(y_train)\n",
    "# svm.fit(X_train,y_train)\n",
    "\n"
   ]
  },
  {
   "cell_type": "code",
   "execution_count": null,
   "metadata": {
    "collapsed": true
   },
   "outputs": [],
   "source": [
    "with open (\"svm.pkl\",'wb') as output:\n",
    "    pk.dump(svm,output,pk.HIGHEST_PROTOCOL)\n"
   ]
  },
  {
   "cell_type": "code",
   "execution_count": null,
   "metadata": {
    "collapsed": true
   },
   "outputs": [],
   "source": [
    "svm_pred = svm.predict(X)"
   ]
  },
  {
   "cell_type": "code",
   "execution_count": 4,
   "metadata": {
    "collapsed": true
   },
   "outputs": [],
   "source": [
    "X_train = df.drop('class', axis=1).values\n",
    "y_train = df['class'].values.astype(np.integer)"
   ]
  },
  {
   "cell_type": "code",
   "execution_count": null,
   "metadata": {
    "collapsed": true
   },
   "outputs": [],
   "source": [
    "start_time_rf = time.time()\n",
    "random_forest_clf = RandomForestClassifier(n_estimators=15,random_state=0)\n",
    "random_forest_clf.fit(X_train,y_train)\n",
    "total_time_rf = start_time_rf - time.time()\n"
   ]
  },
  {
   "cell_type": "code",
   "execution_count": null,
   "metadata": {
    "collapsed": true
   },
   "outputs": [],
   "source": [
    "print(total_time_rf)"
   ]
  },
  {
   "cell_type": "code",
   "execution_count": null,
   "metadata": {
    "collapsed": true
   },
   "outputs": [],
   "source": [
    "with open (\"random_forest.pkl\",'wb') as output:\n",
    "    pk.dump(random_forest_clf,output,pk.HIGHEST_PROTOCOL)"
   ]
  },
  {
   "cell_type": "code",
   "execution_count": 5,
   "metadata": {
    "collapsed": true
   },
   "outputs": [],
   "source": [
    "X_pred = df_validate.drop('class', axis=1).values\n",
    "y_pred_truth = df_validate['class'].values.astype(np.integer)"
   ]
  },
  {
   "cell_type": "code",
   "execution_count": null,
   "metadata": {
    "collapsed": true
   },
   "outputs": [],
   "source": [
    "y_pred_rf = random_forest_clf.predict(X_pred)"
   ]
  },
  {
   "cell_type": "code",
   "execution_count": 6,
   "metadata": {
    "collapsed": true
   },
   "outputs": [],
   "source": [
    "from sklearn.metrics import accuracy_score"
   ]
  },
  {
   "cell_type": "code",
   "execution_count": null,
   "metadata": {
    "collapsed": true
   },
   "outputs": [],
   "source": [
    "random_forest_accuracy = accuracy_score(y_true=y_pred_truth, y_pred=y_pred_rf )\n",
    "print(random_forest_accuracy)"
   ]
  },
  {
   "cell_type": "code",
   "execution_count": null,
   "metadata": {
    "collapsed": true
   },
   "outputs": [],
   "source": [
    "start_time_xg = time.time()\n",
    "xgboost_clf = xg.XGBClassifier(n_estimators=100)\n",
    "xgboost_clf.fit(X_train, y_train)\n"
   ]
  },
  {
   "cell_type": "code",
   "execution_count": null,
   "metadata": {
    "collapsed": true
   },
   "outputs": [],
   "source": [
    "total_time_xg = start_time_xg - time.time()\n",
    "print(total_time_xg)"
   ]
  },
  {
   "cell_type": "code",
   "execution_count": null,
   "metadata": {
    "collapsed": true
   },
   "outputs": [],
   "source": [
    "with open (\"xgBoost.pkl\",'wb') as output:\n",
    "    pk.dump(xgboost_clf,output,pk.HIGHEST_PROTOCOL)"
   ]
  },
  {
   "cell_type": "code",
   "execution_count": null,
   "metadata": {
    "collapsed": true
   },
   "outputs": [],
   "source": [
    "y_pred_xg = xgboost_clf.predict(X_pred)"
   ]
  },
  {
   "cell_type": "code",
   "execution_count": null,
   "metadata": {
    "collapsed": true
   },
   "outputs": [],
   "source": [
    "xg_accuracy = accuracy_score(y_true=y_pred_truth, y_pred=y_pred_rf )\n",
    "print(xg_accuracy)"
   ]
  },
  {
   "cell_type": "code",
   "execution_count": null,
   "metadata": {
    "collapsed": true
   },
   "outputs": [],
   "source": [
    "def get_feature_class(dataframe):\n",
    "    cls_loc = df = pd.read_csv(\"map_clsloc.txt\", delim_whitespace=True, header=None)\n"
   ]
  },
  {
   "cell_type": "code",
   "execution_count": null,
   "metadata": {
    "collapsed": true
   },
   "outputs": [],
   "source": [
    "p_df = p"
   ]
  },
  {
   "cell_type": "code",
   "execution_count": null,
   "metadata": {
    "collapsed": true
   },
   "outputs": [],
   "source": [
    "try:\n",
    "    from urllib.request import urlretrieve \n",
    "except ImportError: \n",
    "    from urllib import urlretrieve\n",
    "    \n",
    "    \n",
    "# # download Microsoft grocery data for object detection\n",
    "\n",
    "def download_grocery_data():\n",
    "#     base_folder = os.path.dirname(os.path.abspath(__file__))\n",
    "#     dataset_folder = os.path.join(base_folder, \"..\")\n",
    "#     dataset_folder = os.path.join(\"..\")\n",
    "    if not os.path.exists(os.path.join(\"Grocery\", \"testImages\")):\n",
    "        filename = os.path.join(\"Grocery.zip\")\n",
    "        if not os.path.exists(filename):\n",
    "            url = \"https://www.cntk.ai/DataSets/Grocery/Grocery.zip\"\n",
    "            print('Downloading data from ' + url + '...')\n",
    "            urlretrieve(url, filename)\n",
    "            \n",
    "        try:\n",
    "            print('Extracting ' + filename + '...')\n",
    "            with zipfile.ZipFile(filename) as myzip:\n",
    "                myzip.extractall()\n",
    "#             if platform != \"win32\":\n",
    "                testfile  = os.path.join(\"Grocery\", \"test.txt\")\n",
    "                unixfile = os.path.join(\"Grocery\", \"test_unix.txt\")\n",
    "                out = open(unixfile, 'w')\n",
    "                with open(testfile) as f:\n",
    "                    for line in f:\n",
    "                        out.write(line.replace('\\\\', '/'))\n",
    "                out.close()\n",
    "                shutil.move(unixfile, testfile)\n",
    "        finally:\n",
    "            os.remove(filename)\n",
    "        print('Done.')\n",
    "    else:\n",
    "        print('Data already available at ' + '/Grocery')\n",
    "    \n",
    "\n",
    "download_grocery_data()"
   ]
  },
  {
   "cell_type": "code",
   "execution_count": null,
   "metadata": {
    "collapsed": true
   },
   "outputs": [],
   "source": []
  },
  {
   "cell_type": "code",
   "execution_count": null,
   "metadata": {
    "collapsed": true
   },
   "outputs": [],
   "source": [
    "# download Tiny Imagenet(Stanford CS231N) (Zipped Size = 236MB)\n",
    "\n",
    "def download_tinyImagenet_data():\n",
    "#     base_folder = os.path.dirname(os.path.abspath(__file__))\n",
    "#     dataset_folder = os.path.join(base_folder, \"..\")\n",
    "#     dataset_folder = os.path.join(\"..\")\n",
    "    if not os.path.exists(os.path.join(\"tiny-imageset\", \"train\")):\n",
    "        filename = os.path.join(\"tiny-imagenet-200.zip\")\n",
    "        if not os.path.exists(filename):\n",
    "            url = \"http://www.image-net.org/image/tiny/tiny-imagenet-200.zip\"\n",
    "            print('Downloading data from ' + url + '...')\n",
    "            urlretrieve(url, filename)\n",
    "            \n",
    "        try:\n",
    "            print('Extracting ' + filename + '...')\n",
    "            with zipfile.ZipFile(filename) as myzip:\n",
    "                myzip.extractall()\n",
    "#             if platform != \"win32\":\n",
    "                testfile  = os.path.join(\"tiny-imageset\", \"test.txt\")\n",
    "                unixfile = os.path.join(\"tiny-imageset\", \"test_unix.txt\")\n",
    "                out = open(unixfile, 'w')\n",
    "                with open(testfile) as f:\n",
    "                    for line in f:\n",
    "                        out.write(line.replace('\\\\', '/'))\n",
    "                out.close()\n",
    "                shutil.move(unixfile, testfile)\n",
    "        finally:\n",
    "            os.remove(filename)\n",
    "        print('Done.')\n",
    "    else:\n",
    "        print('Data already available at ' + '/tiny-imageset')\n",
    "    \n",
    "\n",
    "download_tinyImagenet_data()"
   ]
  },
  {
   "cell_type": "code",
   "execution_count": null,
   "metadata": {
    "collapsed": true
   },
   "outputs": [],
   "source": [
    "df_cls = pd.read_csv(\"map_clsloc.txt\", delim_whitespace=True, header=None)\n",
    "print(df_cls)"
   ]
  },
  {
   "cell_type": "code",
   "execution_count": null,
   "metadata": {
    "collapsed": true
   },
   "outputs": [],
   "source": [
    "# writes image location is test.text file which will be fed to model to extract features\n",
    "\n",
    "def write_image_location_in_text_file():\n",
    "    myvar = glob.glob('./tiny-imagenet-200/train/**/*.JPEG',recursive=True)\n",
    "    feature_vector_file = os.path.join(\"tiny-imagenet-200\",\"image-location.txt\")\n",
    "    with open(feature_vector_file, 'wb') as f:\n",
    "        for url in myvar:\n",
    "#             dir_cls = os.path.basename(os.path.dirname(os.path.dirname(url)))\n",
    "#             df_cls_val = df_cls[df_cls[0].str.contains(dir_cls)]\n",
    "#             cls_val = str(df_cls_val.iloc[0][1]).encode('utf-8',errors='ignore')\n",
    "#           cls_dir = os.path.basename(os.dirname(main_dir))\n",
    "#             print(cls_dir)\n",
    "#             print(url)\n",
    "            f.write(url.encode()+\"\\t\".encode()+\"0\".encode()+\"\\n\".encode())\n",
    "            \n",
    "#             np.savetxt(feature_vector_file, url, fmt=\"%s\")\n",
    "\n",
    "                               \n",
    "write_image_location_in_text_file()"
   ]
  },
  {
   "cell_type": "code",
   "execution_count": null,
   "metadata": {
    "collapsed": true
   },
   "outputs": [],
   "source": [
    "try:\n",
    "    from urllib.request import urlretrieve \n",
    "except ImportError: \n",
    "    from urllib import urlretrieve\n",
    "\n",
    "# Add models here like this: (category, model_name, model_url)\n",
    "models = (('Image Classification', 'AlexNet_ImageNet_CNTK', 'https://www.cntk.ai/Models/CNTK_Pretrained/AlexNet_ImageNet_CNTK.model'),\n",
    "          ('Image Classification', 'AlexNet_ImageNet_Caffe', 'https://www.cntk.ai/Models/Caffe_Converted/AlexNet_ImageNet_Caffe.model'),\n",
    "          ('Image Classification', 'InceptionV3_ImageNet_CNTK', 'https://www.cntk.ai/Models/CNTK_Pretrained/InceptionV3_ImageNet_CNTK.model'),\n",
    "          ('Image Classification', 'BNInception_ImageNet_Caffe', 'https://www.cntk.ai/Models/Caffe_Converted/BNInception_ImageNet_Caffe.model'),\n",
    "          ('Image Classification', 'ResNet18_ImageNet_CNTK', 'https://www.cntk.ai/Models/CNTK_Pretrained/ResNet18_ImageNet_CNTK.model'),\n",
    "          ('Image Classification', 'ResNet34_ImageNet_CNTK', 'https://www.cntk.ai/Models/CNTK_Pretrained/ResNet34_ImageNet_CNTK.model'),\n",
    "          ('Image Classification', 'ResNet50_ImageNet_CNTK', 'https://www.cntk.ai/Models/CNTK_Pretrained/ResNet50_ImageNet_CNTK.model'),\n",
    "          ('Image Classification', 'ResNet20_CIFAR10_CNTK', 'https://www.cntk.ai/Models/CNTK_Pretrained/ResNet20_CIFAR10_CNTK.model'),\n",
    "          ('Image Classification', 'ResNet110_CIFAR10_CNTK', 'https://www.cntk.ai/Models/CNTK_Pretrained/ResNet110_CIFAR10_CNTK.model'),\n",
    "          ('Image Classification', 'ResNet50_ImageNet_Caffe', 'https://www.cntk.ai/Models/Caffe_Converted/ResNet50_ImageNet_Caffe.model'),\n",
    "          ('Image Classification', 'ResNet101_ImageNet_Caffe', 'https://www.cntk.ai/Models/Caffe_Converted/ResNet101_ImageNet_Caffe.model'),\n",
    "          ('Image Classification', 'ResNet152_ImageNet_Caffe', 'https://www.cntk.ai/Models/Caffe_Converted/ResNet152_ImageNet_Caffe.model'),\n",
    "          ('Image Classification', 'VGG16_ImageNet_Caffe', 'https://www.cntk.ai/Models/Caffe_Converted/VGG16_ImageNet_Caffe.model'),\n",
    "          ('Image Classification', 'VGG19_ImageNet_Caffe', 'https://www.cntk.ai/Models/Caffe_Converted/VGG19_ImageNet_Caffe.model'),\n",
    "          ('Image Object Detection', 'Fast-RCNN_grocery100', 'https://www.cntk.ai/Models/FRCN_Grocery/Fast-RCNN_grocery100.model'),\n",
    "          ('Image Object Detection', 'Fast-RCNN_Pascal', 'https://www.cntk.ai/Models/FRCN_Pascal/Fast-RCNN.model'))\n",
    "\n",
    "def download_model(model_file_name, model_url):\n",
    "#     model_dir = os.path.dirname(os.path.abspath(__file__))\n",
    "#     filename = os.path.join(model_dir, model_file_name)\n",
    "    filename = os.path.join(model_file_name)\n",
    "\n",
    "    if not os.path.exists(filename):\n",
    "        print('Downloading model from ' + model_url + ', may take a while...')\n",
    "        urlretrieve(model_url, filename)\n",
    "        print('Saved model as ' + filename)\n",
    "    else:\n",
    "        print('CNTK model already available at ' + filename)\n",
    "    \n",
    "def download_model_by_name(model_name):\n",
    "    if model_name.endswith('.model'):\n",
    "        model_name = model_name[:-6]\n",
    "\n",
    "    model = next((x for x in models if x[1]==model_name), None)\n",
    "    if model is None:\n",
    "        print(\"ERROR: Unknown model name '%s'.\" % model_name)\n",
    "        list_available_models()\n",
    "    else:\n",
    "        download_model(model_name + '.model', model[2])\n",
    "\n",
    "def list_available_models():\n",
    "    print(\"\\nAvailable models (for more information see Readme.md):\")\n",
    "    max_cat = max(len(x[1]) for x in models)\n",
    "    max_name = max(len(x[1]) for x in models)\n",
    "    print(\"{:<{width}}   {}\".format('Model name', 'Category', width=max_name))\n",
    "    print(\"{:-<{width}}   {:-<{width_cat}}\".format('', '', width=max_name, width_cat=max_cat))\n",
    "    for model in sorted(models):\n",
    "        print(\"{:<{width}}   {}\".format(model[1], model[0], width=max_name))"
   ]
  },
  {
   "cell_type": "code",
   "execution_count": null,
   "metadata": {
    "collapsed": true
   },
   "outputs": [],
   "source": [
    "# base_folder = os.path.dirname(os.path.abspath(__file__))\n",
    "\n",
    "# sys.path.append(os.path.join(base_folder, \"..\", \"DataSets\", \"Grocery\"))\n",
    "sys.path.append(os.path.join( \"..\", \"DataSets\", \"Grocery\"))\n",
    "\n",
    "# from install_grocery import download_grocery_data\n",
    "# download_grocery_data()\n",
    "   \n",
    "# sys.path.append(os.path.join(base_folder, \"..\", \"..\", \"..\", \"PretrainedModels\"))\n",
    "sys.path.append(os.path.join(\"..\", \"..\", \"..\", \"PretrainedModels\"))\n",
    "\n",
    "# from download_model import download_model_by_name\n",
    "download_model_by_name(\"ResNet18_ImageNet_CNTK\")\n",
    "# download_model_by_name(\"InceptionV3_ImageNet_CNTK\")\n",
    "# download_model_by_name(\"AlexNet_ImageNet_CNTK\")\n",
    "download_model_by_name(\"ResNet152_ImageNet_Caffe\")"
   ]
  },
  {
   "cell_type": "code",
   "execution_count": null,
   "metadata": {
    "collapsed": true
   },
   "outputs": [],
   "source": [
    "def create_mb_source(image_height, image_width, num_channels, map_file):\n",
    "    transforms = [xforms.scale(width=image_width, height=image_height, channels=num_channels, interpolations='linear')]\n",
    "    return C.io.MinibatchSource(\n",
    "        C.io.ImageDeserializer(map_file, C.io.StreamDefs(\n",
    "            features=C.io.StreamDef(field='image', transforms=transforms),\n",
    "            labels=C.io.StreamDef(field='label', shape=1000))),\n",
    "        randomize=False)\n",
    "\n",
    "def eval_and_write(model_file, node_name, output_file, minibatch_source, num_objects):\n",
    "    # load model and pick desired node as output\n",
    "    loaded_model  = load_model(model_file)\n",
    "    node_in_graph = loaded_model.find_by_name(node_name)\n",
    "    output_nodes  = combine([node_in_graph.owner])\n",
    "\n",
    "    # evaluate model and get desired node output\n",
    "    print(\"Evaluating model for output node %s\" % node_name)\n",
    "    features_si = minibatch_source['features']\n",
    "    with open(output_file, 'wb') as results_file:\n",
    "        for i in range(0, num_objects):\n",
    "            mb = minibatch_source.next_minibatch(1)\n",
    "            output = output_nodes.eval(mb[features_si])\n",
    "\n",
    "            # write results to file\n",
    "            out_values = output[0].flatten()\n",
    "            np.savetxt(results_file, out_values[np.newaxis], fmt=\"%.6f\")\n",
    "\n",
    "def main():\n",
    "    # define location of model and data and check existence\n",
    "#     base_folder = os.path.dirname(os.path.abspath(__file__))\n",
    "#     model_file  = os.path.join(base_folder, \"..\", \"..\", \"..\", \"PretrainedModels\", \"ResNet18_ImageNet_CNTK.model\")\n",
    "#     model_file  = os.path.join(\"..\", \"..\", \"..\", \"PretrainedModels\", \"ResNet18_ImageNet_CNTK.model\")\n",
    "    model_file  = os.path.join(\"ResNet18_ImageNet_CNTK.model\")\n",
    "    if(os.path.exists(model_file)):\n",
    "        print(\"model exists\")\n",
    "    \n",
    "#     print(model_file)\n",
    "\n",
    "\n",
    "#     map_file    = os.path.join(base_folder, \"..\", \"DataSets\", \"Grocery\", \"test.txt\")\n",
    "#     map_file    = os.path.join(\"..\", \"DataSets\", \"Grocery\", \"test.txt\")\n",
    "    map_file = os.path.join(\"tiny-imagenet-200\", \"image-location.txt\")\n",
    "#     print(map_file)\n",
    "\n",
    "#     os.chdir(os.path.join(base_folder, \"..\", \"DataSets\", \"Grocery\"))\n",
    "#     os.chdir(os.path.join(\"..\", \"Grocery\"))\n",
    "\n",
    "#     os.chdir(os.path.join(\"..\", \"DataSets\", \"Grocery\"))\n",
    "\n",
    "#     image_file = os.path.join(\"Grocery\", \"testImages\",\"WIN_20160803_11_28_42_Pro.jpg\")\n",
    "#     if not (os.path.exists(model_file)):\n",
    "#         print(\"model bhetena\")\n",
    "        \n",
    "#     if(os.path.exists(image_file)):\n",
    "#         print(\"image bhetyo\")\n",
    "        \n",
    "#     if not (os.path.exists(map_file)):\n",
    "#         print(\"map file bhetena\")\n",
    "\n",
    "#     if not (os.path.exists(model_file) and os.path.exists(map_file)):\n",
    "#         print(\"Please run 'python install_data_and_model.py' first to get the required data and model.\")\n",
    "#         exit(0)\n",
    "\n",
    "    # create minibatch source\n",
    "    image_height = 224\n",
    "    image_width  = 224\n",
    "    num_channels = 3\n",
    "    minibatch_source = create_mb_source(image_height, image_width, num_channels, map_file)\n",
    "\n",
    "    # use this to print all node names of the model (and knowledge of the model to pick the correct one)\n",
    "    node_outputs = get_node_outputs(load_model(model_file))\n",
    "#     for out in node_outputs: print(\"{0} {1}\".format(out.name, out.shape))\n",
    "\n",
    "    # use this to get 1000 class predictions (not yet softmaxed!)\n",
    "    node_name = \"z\"\n",
    "    output_file = os.path.join(\"predOutput_val.txt\")\n",
    "#     output_file = os.path.join(\"fish.txt\")\n",
    "\n",
    "    # use this to get 512 features from the last but one layer of ResNet_18\n",
    "#     node_name = \"z.x\"\n",
    "#     output_file = os.path.join(base_folder, \"layerOutput.txt\")\n",
    "#     output_file = os.path.join(\"layerOutput.txt\")\n",
    "    \n",
    "    # evaluate model and write out the desired layer output\n",
    "    eval_and_write(model_file, node_name, output_file, minibatch_source, num_objects=99999)\n",
    "\n",
    "    print(\"Done. Wrote output to %s\" % output_file)\n",
    "\n",
    "main()"
   ]
  },
  {
   "cell_type": "code",
   "execution_count": null,
   "metadata": {
    "collapsed": true
   },
   "outputs": [],
   "source": [
    "from sklearn.neural_network import MLPClassifier"
   ]
  },
  {
   "cell_type": "raw",
   "metadata": {},
   "source": [
    "start_time_nn = time.time()\n",
    "nn_clf = MLPClassifier(hidden_layer_sizes=(1300,1300,1300)\n",
    "nn_clf.fit(X_train, y_train)\n",
    "total_time_nn = start_time_nn - time.time()"
   ]
  },
  {
   "cell_type": "code",
   "execution_count": null,
   "metadata": {
    "collapsed": true
   },
   "outputs": [],
   "source": [
    "print(total_time_nn)"
   ]
  },
  {
   "cell_type": "code",
   "execution_count": null,
   "metadata": {
    "collapsed": true
   },
   "outputs": [],
   "source": [
    "with open (\"neural_network.pkl\",'wb') as output:\n",
    "    pk.dump(nn_clf,output,pk.HIGHEST_PROTOCOL)"
   ]
  },
  {
   "cell_type": "code",
   "execution_count": null,
   "metadata": {
    "collapsed": true
   },
   "outputs": [],
   "source": [
    "y_pred_nn = nn_clf.predict(X_pred)"
   ]
  },
  {
   "cell_type": "markdown",
   "metadata": {},
   "source": [
    "nn_accuracy_score = accuracy_score(y_true=y_pred_truth, y_pred=y_pred_nn )\n"
   ]
  },
  {
   "cell_type": "code",
   "execution_count": null,
   "metadata": {
    "collapsed": true
   },
   "outputs": [],
   "source": [
    "print(nn_accuracy_score)"
   ]
  },
  {
   "cell_type": "code",
   "execution_count": null,
   "metadata": {
    "collapsed": true
   },
   "outputs": [],
   "source": []
  }
 ],
 "metadata": {
  "kernelspec": {
   "display_name": "Python 3",
   "language": "python",
   "name": "python3"
  },
  "language_info": {
   "codemirror_mode": {
    "name": "ipython",
    "version": 3
   },
   "file_extension": ".py",
   "mimetype": "text/x-python",
   "name": "python",
   "nbconvert_exporter": "python",
   "pygments_lexer": "ipython3",
   "version": "3.5.2"
  }
 },
 "nbformat": 4,
 "nbformat_minor": 2
}
